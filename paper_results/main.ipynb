{
 "cells": [
  {
   "cell_type": "code",
   "execution_count": 1,
   "metadata": {},
   "outputs": [],
   "source": [
    "from contextual_som import ContextualSom\n",
    "from collections import defaultdict\n",
    "import matplotlib.pyplot as plt\n",
    "import numpy as np\n",
    "from tqdm import tqdm\n",
    "import os"
   ]
  },
  {
   "cell_type": "code",
   "execution_count": 2,
   "metadata": {},
   "outputs": [],
   "source": [
    "with open(os.path.join(\"..\", \"out\", \"corpus.txt\")) as f:\n",
    "    corpus = f.read()"
   ]
  },
  {
   "cell_type": "code",
   "execution_count": 3,
   "metadata": {},
   "outputs": [
    {
     "name": "stderr",
     "output_type": "stream",
     "text": [
      "100%|██████████| 100/100 [25:57<00:00, 15.57s/it]\n"
     ]
    }
   ],
   "source": [
    "all_scores = defaultdict(list)\n",
    "\n",
    "for _ in tqdm(range(100)):\n",
    "    con_som = ContextualSom(corpus)\n",
    "    con_som.preprocess()\n",
    "    con_som.train(60, 50, 400, sigma=25, learning_rate=0.5)\n",
    "    scores = con_som.scores()\n",
    "    \n",
    "    for key in scores:\n",
    "        all_scores[key].append(scores[key])"
   ]
  },
  {
   "cell_type": "code",
   "execution_count": 4,
   "metadata": {},
   "outputs": [
    {
     "data": {
      "text/plain": [
       "{'noun': (0.6853535353535355, 0.05651828824759397),\n",
       " 'verb': (0.552, 0.05867601724725358),\n",
       " 'closed_class': (0.6369841269841269, 0.03851106823697793),\n",
       " 'quantifier': (0.11333333333333333, 0.16628103534693722),\n",
       " 'classifier': (0.0, 0.0),\n",
       " 'adjective': (0.13944444444444445, 0.1126271572188958),\n",
       " 'adverb': (0.3157407407407407, 0.07344057814667937),\n",
       " 'interjection': (0.39630434782608703, 0.11420204792591326),\n",
       " 'unknown': (0.0, 0.0)}"
      ]
     },
     "execution_count": 4,
     "metadata": {},
     "output_type": "execute_result"
    }
   ],
   "source": [
    "metrics = {k: (np.mean(v), np.std(v)) for k, v in all_scores.items()}\n",
    "metrics"
   ]
  },
  {
   "cell_type": "code",
   "execution_count": 5,
   "metadata": {},
   "outputs": [
    {
     "data": {
      "image/png": "[encoded data removed]",
      "text/plain": [
       "<Figure size 720x360 with 1 Axes>"
      ]
     },
     "metadata": {
      "needs_background": "light"
     },
     "output_type": "display_data"
    }
   ],
   "source": [
    "plt.figure(figsize=(10, 5))\n",
    "plt.bar(*zip(*[(k, v[0]) for k, v in metrics.items()]), yerr=[v[1] for v in metrics.values()], capsize=5)\n",
    "\n",
    "plt.xlabel(\"Lexical Category\")\n",
    "plt.ylabel(\"Classification Rate\")\n",
    "plt.title(\"Classification Rate vs Lexical Category\")\n",
    "plt.ylim([0, 1])\n",
    "\n",
    "plt.savefig(\"scores.png\")\n",
    "plt.show()"
   ]
  }
 ],
 "metadata": {
  "kernelspec": {
   "display_name": "Python 3",
   "language": "python",
   "name": "python3"
  },
  "language_info": {
   "codemirror_mode": {
    "name": "ipython",
    "version": 3
   },
   "file_extension": ".py",
   "mimetype": "text/x-python",
   "name": "python",
   "nbconvert_exporter": "python",
   "pygments_lexer": "ipython3",
   "version": "3.7.7"
  }
 },
 "nbformat": 4,
 "nbformat_minor": 4
}
