{
 "cells": [
  {
   "cell_type": "code",
   "execution_count": 1,
   "metadata": {},
   "outputs": [],
   "source": [
    "from contextual_som import ContextualSom\n",
    "from collections import defaultdict\n",
    "import matplotlib.pyplot as plt\n",
    "import numpy as np\n",
    "from tqdm import tqdm\n",
    "import os"
   ]
  },
  {
   "cell_type": "code",
   "execution_count": 2,
   "metadata": {},
   "outputs": [],
   "source": [
    "with open(os.path.join(\"..\", \"out\", \"corpus.txt\")) as f:\n",
    "    corpus = f.read()"
   ]
  },
  {
   "cell_type": "code",
   "execution_count": 3,
   "metadata": {},
   "outputs": [
    {
     "name": "stderr",
     "output_type": "stream",
     "text": [
      "100%|██████████| 100/100 [24:23<00:00, 14.63s/it]\n"
     ]
    }
   ],
   "source": [
    "all_scores = defaultdict(list)\n",
    "\n",
    "for _ in tqdm(range(100)):\n",
    "    con_som = ContextualSom(corpus)\n",
    "    con_som.preprocess()\n",
    "    con_som.train(60, 50, 400, sigma=25, learning_rate=0.5)\n",
    "    scores = con_som.scores()\n",
    "    \n",
    "    for key in scores:\n",
    "        all_scores[key].append(scores[key])"
   ]
  },
  {
   "cell_type": "code",
   "execution_count": 4,
   "metadata": {},
   "outputs": [
    {
     "data": {
      "text/plain": [
       "{'noun': (0.792121212121212, 0.039073548202926384),\n",
       " 'verb': (0.681875, 0.07602168687289175),\n",
       " 'closed_class': (0.7274603174603176, 0.03986550412847114),\n",
       " 'quantifier': (0.2544444444444444, 0.18875485440573017),\n",
       " 'classifier': (0.03333333333333333, 0.12909944487358055),\n",
       " 'adjective': (0.21, 0.12387269450708031),\n",
       " 'adverb': (0.4440740740740741, 0.07671138434639406),\n",
       " 'interjection': (0.5204347826086957, 0.11202804806777292),\n",
       " 'unknown': (0.0, 0.0)}"
      ]
     },
     "execution_count": 4,
     "metadata": {},
     "output_type": "execute_result"
    }
   ],
   "source": [
    "metrics = {k: (np.mean(v), np.std(v)) for k, v in all_scores.items()}\n",
    "metrics"
   ]
  },
  {
   "cell_type": "code",
   "execution_count": 5,
   "metadata": {},
   "outputs": [
    {
     "data": {
      "image/png": "[encoded data removed]",
      "text/plain": [
       "<Figure size 720x360 with 1 Axes>"
      ]
     },
     "metadata": {
      "needs_background": "light"
     },
     "output_type": "display_data"
    }
   ],
   "source": [
    "plt.figure(figsize=(10, 5))\n",
    "plt.bar(*zip(*[(k, v[0]) for k, v in metrics.items()]), yerr=[v[1] for v in metrics.values()], capsize=5)\n",
    "\n",
    "plt.xlabel(\"Lexical Category\")\n",
    "plt.ylabel(\"Classification Rate\")\n",
    "plt.title(\"Classification Rate vs Lexical Category\")\n",
    "plt.ylim([0, 1])\n",
    "\n",
    "plt.savefig(\"scores.png\")\n",
    "plt.show()"
   ]
  }
 ],
 "metadata": {
  "kernelspec": {
   "display_name": "Python 3",
   "language": "python",
   "name": "python3"
  },
  "language_info": {
   "codemirror_mode": {
    "name": "ipython",
    "version": 3
   },
   "file_extension": ".py",
   "mimetype": "text/x-python",
   "name": "python",
   "nbconvert_exporter": "python",
   "pygments_lexer": "ipython3",
   "version": "3.7.7"
  }
 },
 "nbformat": 4,
 "nbformat_minor": 4
}
